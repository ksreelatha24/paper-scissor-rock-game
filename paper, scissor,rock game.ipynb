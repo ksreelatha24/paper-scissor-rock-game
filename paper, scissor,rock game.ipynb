{
 "cells": [
  {
   "cell_type": "code",
   "execution_count": 1,
   "id": "ab38a49d",
   "metadata": {},
   "outputs": [],
   "source": [
    "#create rock paper siccsor game"
   ]
  },
  {
   "cell_type": "code",
   "execution_count": 20,
   "id": "2194ee59",
   "metadata": {},
   "outputs": [
    {
     "name": "stdout",
     "output_type": "stream",
     "text": [
      "person1, enter paper,rock,scissor: scissor\n",
      "person2,enter paper,rock sissor: scissor\n",
      "match tie\n"
     ]
    }
   ],
   "source": [
    "name1=input(\"person1, enter paper,rock,scissor: \")\n",
    "name2=input(\"person2,enter paper,rock sissor: \")\n",
    "if name1==\"paper\"and name2==\"scissor\":\n",
    "    print(\"paper win\")\n",
    "elif name1==\"scissor\" and name2==\"rock\":\n",
    "        print(\"rock win\")\n",
    "elif name1==\"paper\" and name2==\"rock\":\n",
    "    print(\"paper win\")\n",
    "elif name1==\"paper\" and name2==\"paper\":\n",
    "    print(\"match tie\")\n",
    "elif name1==\"rock\" and name2==\"rock\":\n",
    "    print(\"match tie\")\n",
    "elif name1==\"scissor\" and name2==\"scissor\":\n",
    "    print(\"match tie\")\n",
    "else:\n",
    "    print(\"objects not there\")"
   ]
  },
  {
   "cell_type": "code",
   "execution_count": null,
   "id": "2dcd0e63",
   "metadata": {},
   "outputs": [],
   "source": []
  }
 ],
 "metadata": {
  "kernelspec": {
   "display_name": "Python 3 (ipykernel)",
   "language": "python",
   "name": "python3"
  },
  "language_info": {
   "codemirror_mode": {
    "name": "ipython",
    "version": 3
   },
   "file_extension": ".py",
   "mimetype": "text/x-python",
   "name": "python",
   "nbconvert_exporter": "python",
   "pygments_lexer": "ipython3",
   "version": "3.9.13"
  }
 },
 "nbformat": 4,
 "nbformat_minor": 5
}
